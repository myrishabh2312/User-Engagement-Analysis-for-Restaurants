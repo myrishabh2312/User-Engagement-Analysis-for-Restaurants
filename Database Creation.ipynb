{
 "cells": [
  {
   "cell_type": "code",
   "execution_count": null,
   "id": "923a8b16-1134-4d1e-aa62-70221f8ee50d",
   "metadata": {},
   "outputs": [],
   "source": [
    "import pandas as pd \n",
    "import json \n",
    "from sqlalchemy import create_engine\n"
   ]
  },
  {
   "cell_type": "code",
   "execution_count": null,
   "id": "f437797a-3299-4c37-af25-85d61d6543d9",
   "metadata": {},
   "outputs": [],
   "source": [
    "with open('yelp_academic_dataset_business.json', 'r', encoding='utf-8') as f: \n",
    "    business_data = [json.loads(line) for line in f] \n",
    "    business_df = pd.DataFrame(business_data)\n",
    "    \n",
    "with open('yelp_academic_dataset_checkin.json', 'r', encoding='utf-8') as f: \n",
    "    checkin = [json.loads(line) for line in f] \n",
    "    checkin_df = pd.DataFrame(checkin)\n",
    "\n",
    "with open('yelp_academic_dataset_review.json', 'r', encoding='utf-8') as f: \n",
    "    review_data = [json.loads(line) for line in f] \n",
    "    review_df = pd.DataFrame(review_data)\n",
    "\n",
    "with open('yelp_academic_dataset_tip.json', 'r', encoding='utf-8') as f: \n",
    "    tip_data = [json.loads(line) for line in f] \n",
    "    tip_df = pd.DataFrame(tip_data)\n",
    "\n",
    "with open('yelp_academic_dataset_user.json', 'r', encoding='utf-8') as f: \n",
    "    user_data = [json.loads(line) for line in f]\n",
    "    user_df = pd.DataFrame(user_data)  \n"
   ]
  },
  {
   "cell_type": "code",
   "execution_count": null,
   "id": "0bbb0e92-95f1-449d-a86b-911bdd6784bd",
   "metadata": {},
   "outputs": [],
   "source": [
    "print(business_df.shape)\n",
    "print(checkin_df.shape)\n",
    "print(review_df.shape)\n",
    "print(tip_df.shape)\n",
    "print(user_df.shape)"
   ]
  },
  {
   "cell_type": "code",
   "execution_count": null,
   "id": "a06ce644-6f74-487e-aae1-339b953e367e",
   "metadata": {},
   "outputs": [],
   "source": [
    "business_df.drop(['attributes', 'hours'], axis = 1, inplace = True)\n"
   ]
  },
  {
   "cell_type": "code",
   "execution_count": null,
   "id": "e819a2c7-d782-4f69-b36c-03dcabded1d5",
   "metadata": {},
   "outputs": [],
   "source": [
    "engine = create_engine('sqlite:///yelp.db')\n",
    "\n",
    "def load_dataframe(df, table_name, engine): \n",
    "    df.to_sql(table_name, con=engine, if_exists='replace', index=False)\n",
    "\n",
    "#Load each DataFrame into a separate table\n",
    "\n",
    "load_dataframe(business_df, 'business', engine)\n",
    "\n",
    "load_dataframe(review_df, 'review', engine)\n",
    "\n",
    "load_dataframe(user_df, 'user', engine)\n",
    "\n",
    "load_dataframe(tip_df, 'tip', engine)\n",
    "\n",
    "load_dataframe(checkin_df, 'checkin', engine)"
   ]
  }
 ],
 "metadata": {
  "kernelspec": {
   "display_name": "Python 3 (ipykernel)",
   "language": "python",
   "name": "python3"
  },
  "language_info": {
   "codemirror_mode": {
    "name": "ipython",
    "version": 3
   },
   "file_extension": ".py",
   "mimetype": "text/x-python",
   "name": "python",
   "nbconvert_exporter": "python",
   "pygments_lexer": "ipython3",
   "version": "3.13.0"
  }
 },
 "nbformat": 4,
 "nbformat_minor": 5
}
